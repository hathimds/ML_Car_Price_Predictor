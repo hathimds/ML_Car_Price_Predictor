{
 "cells": [
  {
   "cell_type": "markdown",
   "id": "d642b661-7170-4ffd-a973-4e5180afbba2",
   "metadata": {},
   "source": [
    "## Libraries"
   ]
  },
  {
   "cell_type": "code",
   "execution_count": 1,
   "id": "1be905eb-7b6a-4850-a927-92f08cb76f67",
   "metadata": {},
   "outputs": [],
   "source": [
    "import pandas as pd\n",
    "import numpy as np\n",
    "from sklearn.model_selection import train_test_split"
   ]
  },
  {
   "cell_type": "markdown",
   "id": "67600155-3d5a-48ef-bb4e-e29359e7de42",
   "metadata": {},
   "source": [
    "## Load Dataset\n",
    "\n",
    "Data is stored as an Excel file. So, we use Pandas to load data."
   ]
  },
  {
   "cell_type": "code",
   "execution_count": 3,
   "id": "7eb55e8c-071c-4784-b36c-37e95a181fc1",
   "metadata": {},
   "outputs": [
    {
     "data": {
      "text/html": [
       "<div>\n",
       "<style scoped>\n",
       "    .dataframe tbody tr th:only-of-type {\n",
       "        vertical-align: middle;\n",
       "    }\n",
       "\n",
       "    .dataframe tbody tr th {\n",
       "        vertical-align: top;\n",
       "    }\n",
       "\n",
       "    .dataframe thead th {\n",
       "        text-align: right;\n",
       "    }\n",
       "</style>\n",
       "<table border=\"1\" class=\"dataframe\">\n",
       "  <thead>\n",
       "    <tr style=\"text-align: right;\">\n",
       "      <th></th>\n",
       "      <th>Brand</th>\n",
       "      <th>Model</th>\n",
       "      <th>Year</th>\n",
       "      <th>EngineSize</th>\n",
       "      <th>Fuel</th>\n",
       "      <th>Transmission</th>\n",
       "      <th>Mileage</th>\n",
       "      <th>Doors</th>\n",
       "      <th>OwnerCount</th>\n",
       "      <th>Price</th>\n",
       "    </tr>\n",
       "  </thead>\n",
       "  <tbody>\n",
       "    <tr>\n",
       "      <th>0</th>\n",
       "      <td>Kia</td>\n",
       "      <td>Rio</td>\n",
       "      <td>2020</td>\n",
       "      <td>4.2</td>\n",
       "      <td>Diesel</td>\n",
       "      <td>Manual</td>\n",
       "      <td>289944</td>\n",
       "      <td>3</td>\n",
       "      <td>5</td>\n",
       "      <td>8501</td>\n",
       "    </tr>\n",
       "    <tr>\n",
       "      <th>1</th>\n",
       "      <td>Chevrolet</td>\n",
       "      <td>Malibu</td>\n",
       "      <td>2012</td>\n",
       "      <td>2.0</td>\n",
       "      <td>Hybrid</td>\n",
       "      <td>Automatic</td>\n",
       "      <td>5356</td>\n",
       "      <td>2</td>\n",
       "      <td>3</td>\n",
       "      <td>12092</td>\n",
       "    </tr>\n",
       "    <tr>\n",
       "      <th>2</th>\n",
       "      <td>Mercedes</td>\n",
       "      <td>GLA</td>\n",
       "      <td>2020</td>\n",
       "      <td>4.2</td>\n",
       "      <td>Diesel</td>\n",
       "      <td>Automatic</td>\n",
       "      <td>231440</td>\n",
       "      <td>4</td>\n",
       "      <td>2</td>\n",
       "      <td>11171</td>\n",
       "    </tr>\n",
       "    <tr>\n",
       "      <th>3</th>\n",
       "      <td>Audi</td>\n",
       "      <td>Q5</td>\n",
       "      <td>2023</td>\n",
       "      <td>2.0</td>\n",
       "      <td>Electric</td>\n",
       "      <td>Manual</td>\n",
       "      <td>160971</td>\n",
       "      <td>2</td>\n",
       "      <td>1</td>\n",
       "      <td>11780</td>\n",
       "    </tr>\n",
       "    <tr>\n",
       "      <th>4</th>\n",
       "      <td>Volkswagen</td>\n",
       "      <td>Golf</td>\n",
       "      <td>2003</td>\n",
       "      <td>2.6</td>\n",
       "      <td>Hybrid</td>\n",
       "      <td>Semi-Automatic</td>\n",
       "      <td>286618</td>\n",
       "      <td>3</td>\n",
       "      <td>3</td>\n",
       "      <td>2867</td>\n",
       "    </tr>\n",
       "  </tbody>\n",
       "</table>\n",
       "</div>"
      ],
      "text/plain": [
       "        Brand   Model  Year  EngineSize      Fuel    Transmission  Mileage  \\\n",
       "0         Kia     Rio  2020         4.2    Diesel          Manual   289944   \n",
       "1   Chevrolet  Malibu  2012         2.0    Hybrid       Automatic     5356   \n",
       "2    Mercedes     GLA  2020         4.2    Diesel       Automatic   231440   \n",
       "3        Audi      Q5  2023         2.0  Electric          Manual   160971   \n",
       "4  Volkswagen    Golf  2003         2.6    Hybrid  Semi-Automatic   286618   \n",
       "\n",
       "   Doors  OwnerCount  Price  \n",
       "0      3           5   8501  \n",
       "1      2           3  12092  \n",
       "2      4           2  11171  \n",
       "3      2           1  11780  \n",
       "4      3           3   2867  "
      ]
     },
     "execution_count": 3,
     "metadata": {},
     "output_type": "execute_result"
    }
   ],
   "source": [
    "df = pd.read_excel('raw_data.xlsx')\n",
    "df.head()"
   ]
  },
  {
   "cell_type": "markdown",
   "id": "9a2f36b2-9f98-4167-8fa1-872cc17f432a",
   "metadata": {},
   "source": [
    "First of all, we split test data for later analysis"
   ]
  },
  {
   "cell_type": "code",
   "execution_count": 4,
   "id": "05125191-97e2-43dc-bf65-98c40fe0dec5",
   "metadata": {},
   "outputs": [],
   "source": [
    "X = df.drop('Price', axis=1)\n",
    "y = df['Price']\n",
    "\n",
    "X_train, X_test, y_train, y_test = train_test_split(X, y, test_size=0.2, random_state=42)\n",
    "\n",
    "df = X_train.copy()\n",
    "df['Price'] = y_train"
   ]
  },
  {
   "cell_type": "markdown",
   "id": "43928681-113e-4666-a78d-c45f26970b74",
   "metadata": {},
   "source": [
    "## Remove Extra Columns\n",
    "\n",
    "In this project, we don't have any unnecessary columns. So, we leave them as they are."
   ]
  },
  {
   "cell_type": "markdown",
   "id": "1942bf87-3294-4772-866c-954d474ffcce",
   "metadata": {},
   "source": [
    "## Column Typecasting\n",
    "\n",
    "Here we should make sure about the data type of each column"
   ]
  },
  {
   "cell_type": "code",
   "execution_count": 5,
   "id": "3a30199a-31af-4acd-99cf-058f2c555c30",
   "metadata": {},
   "outputs": [
    {
     "name": "stdout",
     "output_type": "stream",
     "text": [
      "Brand            object\n",
      "Model            object\n",
      "Year              int64\n",
      "EngineSize      float64\n",
      "Fuel             object\n",
      "Transmission     object\n",
      "Mileage           int64\n",
      "Doors             int64\n",
      "OwnerCount        int64\n",
      "Price             int64\n",
      "dtype: object\n"
     ]
    }
   ],
   "source": [
    "print(df.dtypes)"
   ]
  },
  {
   "cell_type": "markdown",
   "id": "31830c95-bc0c-43a7-8607-2b3546f9703a",
   "metadata": {},
   "source": [
    "There is no issue in terms of data type and they are showing correct format."
   ]
  },
  {
   "cell_type": "markdown",
   "id": "1b661929-ef78-4b18-92dc-b97de4bd46c9",
   "metadata": {},
   "source": [
    "## Handling Missing Values"
   ]
  },
  {
   "cell_type": "code",
   "execution_count": 6,
   "id": "96e39bea-ac51-4eee-8d2e-327ffbb01a6d",
   "metadata": {},
   "outputs": [
    {
     "name": "stdout",
     "output_type": "stream",
     "text": [
      "Brand - 0 - %0.0\n",
      "Model - 0 - %0.0\n",
      "Year - 0 - %0.0\n",
      "EngineSize - 0 - %0.0\n",
      "Fuel - 0 - %0.0\n",
      "Transmission - 0 - %0.0\n",
      "Mileage - 0 - %0.0\n",
      "Doors - 0 - %0.0\n",
      "OwnerCount - 0 - %0.0\n",
      "Price - 0 - %0.0\n"
     ]
    }
   ],
   "source": [
    "for col in df.columns:\n",
    "    number_null = df.loc[:, col].isnull().sum()\n",
    "    perc_null = (number_null/df.shape[0]) * 100\n",
    "    print('{} - {} - %{}'.format(col, number_null, round(perc_null, 3)))"
   ]
  },
  {
   "cell_type": "markdown",
   "id": "d6332f7a-f9fc-4a46-83e1-4b80c52f98bb",
   "metadata": {},
   "source": [
    "The result shows, there is no any missing values in our data."
   ]
  },
  {
   "cell_type": "markdown",
   "id": "aac04a62-0d20-4f15-bc06-b7da903ac5af",
   "metadata": {},
   "source": [
    "## Handle Duplicated Rows"
   ]
  },
  {
   "cell_type": "code",
   "execution_count": 7,
   "id": "43dd2fe3-7202-41d5-9115-55843c71b7d6",
   "metadata": {},
   "outputs": [
    {
     "name": "stdout",
     "output_type": "stream",
     "text": [
      "No Duplications.\n"
     ]
    }
   ],
   "source": [
    "duplicate_rows = df.duplicated()\n",
    "\n",
    "if duplicate_rows.any():\n",
    "    print('There is Duplicate.')\n",
    "else:\n",
    "    print('No Duplications.')"
   ]
  },
  {
   "cell_type": "markdown",
   "id": "10438473-3c6a-44bc-b487-bd067d1d38dd",
   "metadata": {},
   "source": [
    "## Numerical Sanity Check\n",
    "\n",
    "I declare all numerical variable.\n",
    "\n",
    "- Year\n",
    "- EngineSize\n",
    "- Mileage\n",
    "- Doors\n",
    "- OwnerCount\n",
    "- Price"
   ]
  },
  {
   "cell_type": "code",
   "execution_count": 8,
   "id": "721ad5a4-bef4-49a5-9e81-77806c6d57bd",
   "metadata": {},
   "outputs": [],
   "source": [
    "numeric_columns = df.select_dtypes(include=['int64', 'float64']).columns.tolist()"
   ]
  },
  {
   "cell_type": "code",
   "execution_count": 9,
   "id": "6a7d153a-0d8f-41c8-a770-bf449064027f",
   "metadata": {},
   "outputs": [
    {
     "data": {
      "text/html": [
       "<div>\n",
       "<style scoped>\n",
       "    .dataframe tbody tr th:only-of-type {\n",
       "        vertical-align: middle;\n",
       "    }\n",
       "\n",
       "    .dataframe tbody tr th {\n",
       "        vertical-align: top;\n",
       "    }\n",
       "\n",
       "    .dataframe thead th {\n",
       "        text-align: right;\n",
       "    }\n",
       "</style>\n",
       "<table border=\"1\" class=\"dataframe\">\n",
       "  <thead>\n",
       "    <tr style=\"text-align: right;\">\n",
       "      <th></th>\n",
       "      <th>Year</th>\n",
       "      <th>EngineSize</th>\n",
       "      <th>Mileage</th>\n",
       "      <th>Doors</th>\n",
       "      <th>OwnerCount</th>\n",
       "      <th>Price</th>\n",
       "    </tr>\n",
       "  </thead>\n",
       "  <tbody>\n",
       "    <tr>\n",
       "      <th>count</th>\n",
       "      <td>8000.000000</td>\n",
       "      <td>8000.000000</td>\n",
       "      <td>8000.000000</td>\n",
       "      <td>8000.000000</td>\n",
       "      <td>8000.000000</td>\n",
       "      <td>8000.000000</td>\n",
       "    </tr>\n",
       "    <tr>\n",
       "      <th>mean</th>\n",
       "      <td>2011.520375</td>\n",
       "      <td>2.996887</td>\n",
       "      <td>149477.003250</td>\n",
       "      <td>3.503625</td>\n",
       "      <td>2.991875</td>\n",
       "      <td>8828.745250</td>\n",
       "    </tr>\n",
       "    <tr>\n",
       "      <th>std</th>\n",
       "      <td>6.897792</td>\n",
       "      <td>1.153237</td>\n",
       "      <td>86613.284937</td>\n",
       "      <td>1.111482</td>\n",
       "      <td>1.420849</td>\n",
       "      <td>3132.164285</td>\n",
       "    </tr>\n",
       "    <tr>\n",
       "      <th>min</th>\n",
       "      <td>2000.000000</td>\n",
       "      <td>1.000000</td>\n",
       "      <td>25.000000</td>\n",
       "      <td>2.000000</td>\n",
       "      <td>1.000000</td>\n",
       "      <td>2000.000000</td>\n",
       "    </tr>\n",
       "    <tr>\n",
       "      <th>25%</th>\n",
       "      <td>2006.000000</td>\n",
       "      <td>2.000000</td>\n",
       "      <td>74192.250000</td>\n",
       "      <td>3.000000</td>\n",
       "      <td>2.000000</td>\n",
       "      <td>6604.750000</td>\n",
       "    </tr>\n",
       "    <tr>\n",
       "      <th>50%</th>\n",
       "      <td>2012.000000</td>\n",
       "      <td>3.000000</td>\n",
       "      <td>150069.500000</td>\n",
       "      <td>4.000000</td>\n",
       "      <td>3.000000</td>\n",
       "      <td>8829.000000</td>\n",
       "    </tr>\n",
       "    <tr>\n",
       "      <th>75%</th>\n",
       "      <td>2017.000000</td>\n",
       "      <td>4.000000</td>\n",
       "      <td>224292.750000</td>\n",
       "      <td>4.000000</td>\n",
       "      <td>4.000000</td>\n",
       "      <td>11071.000000</td>\n",
       "    </tr>\n",
       "    <tr>\n",
       "      <th>max</th>\n",
       "      <td>2023.000000</td>\n",
       "      <td>5.000000</td>\n",
       "      <td>299947.000000</td>\n",
       "      <td>5.000000</td>\n",
       "      <td>5.000000</td>\n",
       "      <td>18301.000000</td>\n",
       "    </tr>\n",
       "  </tbody>\n",
       "</table>\n",
       "</div>"
      ],
      "text/plain": [
       "              Year   EngineSize        Mileage        Doors   OwnerCount  \\\n",
       "count  8000.000000  8000.000000    8000.000000  8000.000000  8000.000000   \n",
       "mean   2011.520375     2.996887  149477.003250     3.503625     2.991875   \n",
       "std       6.897792     1.153237   86613.284937     1.111482     1.420849   \n",
       "min    2000.000000     1.000000      25.000000     2.000000     1.000000   \n",
       "25%    2006.000000     2.000000   74192.250000     3.000000     2.000000   \n",
       "50%    2012.000000     3.000000  150069.500000     4.000000     3.000000   \n",
       "75%    2017.000000     4.000000  224292.750000     4.000000     4.000000   \n",
       "max    2023.000000     5.000000  299947.000000     5.000000     5.000000   \n",
       "\n",
       "              Price  \n",
       "count   8000.000000  \n",
       "mean    8828.745250  \n",
       "std     3132.164285  \n",
       "min     2000.000000  \n",
       "25%     6604.750000  \n",
       "50%     8829.000000  \n",
       "75%    11071.000000  \n",
       "max    18301.000000  "
      ]
     },
     "execution_count": 9,
     "metadata": {},
     "output_type": "execute_result"
    }
   ],
   "source": [
    "df[numeric_columns].describe()"
   ]
  },
  {
   "cell_type": "markdown",
   "id": "e0b88cf6-6391-47d2-933f-aa126fefa8a5",
   "metadata": {},
   "source": [
    "## Categorical Sanity Check\n",
    "\n",
    "I declare all categorical variables\n",
    "\n",
    "- Brand\n",
    "- Model\n",
    "- Fuel\n",
    "- Transmission"
   ]
  },
  {
   "cell_type": "code",
   "execution_count": 10,
   "id": "5653b353-5f6c-40f1-ade6-81ca4fe3d7bb",
   "metadata": {},
   "outputs": [],
   "source": [
    "cat_columns = df.select_dtypes(exclude=['int64', 'float64']).columns.tolist()"
   ]
  },
  {
   "cell_type": "code",
   "execution_count": 11,
   "id": "c6e3f47a-28d3-4471-9381-0bf4121ac0fe",
   "metadata": {},
   "outputs": [],
   "source": [
    "def Cat_Checker(CatIndex):\n",
    "    values = np.sort(df[cat_columns[CatIndex]].unique())\n",
    "    return cat_columns[CatIndex], values"
   ]
  },
  {
   "cell_type": "code",
   "execution_count": 12,
   "id": "86db0a75-eebe-46fe-87b5-fa5910adc592",
   "metadata": {},
   "outputs": [
    {
     "data": {
      "text/plain": [
       "('Brand',\n",
       " array(['Audi', 'BMW', 'Chevrolet', 'Ford', 'Honda', 'Hyundai', 'Kia',\n",
       "        'Mercedes', 'Toyota', 'Volkswagen'], dtype=object))"
      ]
     },
     "execution_count": 12,
     "metadata": {},
     "output_type": "execute_result"
    }
   ],
   "source": [
    "Cat_Checker(0)"
   ]
  },
  {
   "cell_type": "code",
   "execution_count": 13,
   "id": "a86b5f88-fb66-4760-bc81-a0000454e823",
   "metadata": {},
   "outputs": [
    {
     "data": {
      "text/plain": [
       "('Model',\n",
       " array(['3 Series', '5 Series', 'A3', 'A4', 'Accord', 'C-Class', 'CR-V',\n",
       "        'Camry', 'Civic', 'Corolla', 'E-Class', 'Elantra', 'Equinox',\n",
       "        'Explorer', 'Fiesta', 'Focus', 'GLA', 'Golf', 'Impala', 'Malibu',\n",
       "        'Optima', 'Passat', 'Q5', 'RAV4', 'Rio', 'Sonata', 'Sportage',\n",
       "        'Tiguan', 'Tucson', 'X5'], dtype=object))"
      ]
     },
     "execution_count": 13,
     "metadata": {},
     "output_type": "execute_result"
    }
   ],
   "source": [
    "Cat_Checker(1)"
   ]
  },
  {
   "cell_type": "code",
   "execution_count": 14,
   "id": "a7b5c8be-5c53-4fe2-9a4c-8e6cb6730186",
   "metadata": {},
   "outputs": [
    {
     "data": {
      "text/plain": [
       "('Fuel', array(['Diesel', 'Electric', 'Hybrid', 'Petrol'], dtype=object))"
      ]
     },
     "execution_count": 14,
     "metadata": {},
     "output_type": "execute_result"
    }
   ],
   "source": [
    "Cat_Checker(2)"
   ]
  },
  {
   "cell_type": "code",
   "execution_count": 15,
   "id": "52a84adc-3588-4737-97ad-048101e13f11",
   "metadata": {},
   "outputs": [
    {
     "data": {
      "text/plain": [
       "('Transmission',\n",
       " array(['Automatic', 'Manual', 'Semi-Automatic'], dtype=object))"
      ]
     },
     "execution_count": 15,
     "metadata": {},
     "output_type": "execute_result"
    }
   ],
   "source": [
    "Cat_Checker(3)"
   ]
  },
  {
   "cell_type": "markdown",
   "id": "10c9dba7-fb4c-4445-a603-857d706f57cb",
   "metadata": {},
   "source": [
    "## CHECKPOINT"
   ]
  },
  {
   "cell_type": "code",
   "execution_count": 16,
   "id": "c3883d45-de0a-46a1-bd22-da2bc0d13c3e",
   "metadata": {},
   "outputs": [
    {
     "name": "stdout",
     "output_type": "stream",
     "text": [
      "Stored 'X_test' (DataFrame)\n",
      "Stored 'y_test' (Series)\n",
      "Stored 'df' (DataFrame)\n",
      "Stored 'numeric_columns' (list)\n",
      "Stored 'cat_columns' (list)\n"
     ]
    }
   ],
   "source": [
    "%store X_test\n",
    "%store y_test\n",
    "%store df\n",
    "%store numeric_columns\n",
    "%store cat_columns"
   ]
  }
 ],
 "metadata": {
  "kernelspec": {
   "display_name": "Python 3 (ipykernel)",
   "language": "python",
   "name": "python3"
  },
  "language_info": {
   "codemirror_mode": {
    "name": "ipython",
    "version": 3
   },
   "file_extension": ".py",
   "mimetype": "text/x-python",
   "name": "python",
   "nbconvert_exporter": "python",
   "pygments_lexer": "ipython3",
   "version": "3.12.7"
  }
 },
 "nbformat": 4,
 "nbformat_minor": 5
}
