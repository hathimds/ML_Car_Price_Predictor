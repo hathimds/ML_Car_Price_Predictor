{
 "cells": [
  {
   "cell_type": "markdown",
   "id": "019fc798-bfb2-4e0f-86ee-f0e9bee511eb",
   "metadata": {},
   "source": [
    "## Libraries"
   ]
  },
  {
   "cell_type": "code",
   "execution_count": 1,
   "id": "8979d855-bb62-46d8-bb0f-ef9f597b908b",
   "metadata": {},
   "outputs": [],
   "source": [
    "import warnings\n",
    "warnings.filterwarnings('ignore')\n",
    "import pandas as pd\n",
    "from sklearn.model_selection import train_test_split"
   ]
  },
  {
   "cell_type": "markdown",
   "id": "e9b08006-5806-4653-bd12-52539f13a5f3",
   "metadata": {},
   "source": [
    "First, we should call dataframe from data preprocessing section"
   ]
  },
  {
   "cell_type": "code",
   "execution_count": 2,
   "id": "dc97eff0-6dff-4777-8bda-229aa238b1c7",
   "metadata": {},
   "outputs": [],
   "source": [
    "%store -r df\n",
    "df = df"
   ]
  },
  {
   "cell_type": "markdown",
   "id": "ad127387-1cb8-4c9c-bc4f-7baaa11c8719",
   "metadata": {},
   "source": [
    "## Declare Features and Target\n",
    "\n",
    "In this stage, we should split data to train and validation. First of all, we should declare features and target."
   ]
  },
  {
   "cell_type": "code",
   "execution_count": 3,
   "id": "1457935a-09e4-4299-9340-45f8b38889ba",
   "metadata": {},
   "outputs": [],
   "source": [
    "X = df.drop('Price', axis=1)\n",
    "y = df['Price']"
   ]
  },
  {
   "cell_type": "markdown",
   "id": "fd60d6aa-b92d-4f93-95b5-b6411df8955b",
   "metadata": {},
   "source": [
    "## Data Splitting (Train, Val, Test)"
   ]
  },
  {
   "cell_type": "code",
   "execution_count": 4,
   "id": "97a58bdc-f55d-4057-b15e-d91843523971",
   "metadata": {},
   "outputs": [],
   "source": [
    "X_train, X_val, y_train, y_val = train_test_split(X, y, test_size=0.2, random_state=42)"
   ]
  },
  {
   "cell_type": "markdown",
   "id": "320a8888-4c60-490a-b64a-13a2b370fd6e",
   "metadata": {},
   "source": [
    "## CHECKPOINT"
   ]
  },
  {
   "cell_type": "code",
   "execution_count": 5,
   "id": "f0ab1949-df17-42ba-bddc-6fc3ad1e5aba",
   "metadata": {},
   "outputs": [
    {
     "name": "stdout",
     "output_type": "stream",
     "text": [
      "Stored 'X_train' (DataFrame)\n",
      "Stored 'y_train' (Series)\n",
      "Stored 'X_val' (DataFrame)\n",
      "Stored 'y_val' (Series)\n"
     ]
    }
   ],
   "source": [
    "%store X_train\n",
    "%store y_train\n",
    "\n",
    "%store X_val\n",
    "%store y_val"
   ]
  }
 ],
 "metadata": {
  "kernelspec": {
   "display_name": "Python 3 (ipykernel)",
   "language": "python",
   "name": "python3"
  },
  "language_info": {
   "codemirror_mode": {
    "name": "ipython",
    "version": 3
   },
   "file_extension": ".py",
   "mimetype": "text/x-python",
   "name": "python",
   "nbconvert_exporter": "python",
   "pygments_lexer": "ipython3",
   "version": "3.12.7"
  }
 },
 "nbformat": 4,
 "nbformat_minor": 5
}
